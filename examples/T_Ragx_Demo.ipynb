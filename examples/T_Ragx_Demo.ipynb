{
 "cells": [
  {
   "cell_type": "markdown",
   "metadata": {
    "id": "40c8f0c4-e842-46ae-8da1-27621f48542f"
   },
   "source": [
    "T-Ragx\n",
    "=====================\n",
    "\n",
    "#### Enhancing Translation with RAG-Powered Large Language Models\n",
    "\n",
    "<br><br>\n",
    "\n",
    "<p align=\"center\">\n",
    "  <picture>\n",
    "    <img alt=\"T-Ragx Featured Image\" src=\"https://raw.githubusercontent.com/rayliuca/T-Ragx/main/assets/featured_repo.png\" height=\"300\" style=\"max-width: 100%;\">\n",
    "  </picture>\n",
    "  <br/>\n",
    "  <br/>\n",
    "</p>\n"
   ],
   "id": "40c8f0c4-e842-46ae-8da1-27621f48542f"
  },
  {
   "cell_type": "markdown",
   "metadata": {
    "id": "8384eecf-3b31-4898-950b-3ce6d43cec08"
   },
   "source": [
    "### Imports"
   ],
   "id": "8384eecf-3b31-4898-950b-3ce6d43cec08"
  },
  {
   "cell_type": "markdown",
   "metadata": {
    "id": "R9-IadxMZ8eo"
   },
   "source": [
    "#### Install Packages"
   ],
   "id": "R9-IadxMZ8eo"
  },
  {
   "cell_type": "code",
   "execution_count": null,
   "metadata": {
    "id": "770143b7-021f-4a11-bfce-89a89e60ed1e"
   },
   "outputs": [],
   "source": [
    "! wget https://raw.githubusercontent.com/rayliuca/T-Ragx/main/requirements.txt\n",
    "\n",
    "# the CMAKE_ARGS will enable CUDA support for llama-cpp, see the llama-cpp-python GitHub for more details\n",
    "! CMAKE_ARGS=\"-DLLAMA_CUBLAS=on\" pip install -r requirements.txt -qqqq\n",
    "! pip install t-ragx"
   ],
   "id": "770143b7-021f-4a11-bfce-89a89e60ed1e"
  },
  {
   "cell_type": "markdown",
   "source": [
    "##### Suppress llama_cpp Logs"
   ],
   "metadata": {
    "id": "xA8YElGbk_Ih"
   },
   "id": "xA8YElGbk_Ih"
  },
  {
   "cell_type": "code",
   "source": [
    "import ctypes\n",
    "\n",
    "from llama_cpp import llama_log_set\n",
    "\n",
    "def null_callback(level, message, user_data):\n",
    "    pass\n",
    "\n",
    "log_callback = ctypes.CFUNCTYPE(None, ctypes.c_int, ctypes.c_char_p, ctypes.c_void_p)(null_callback)\n",
    "llama_log_set(log_callback, ctypes.c_void_p())"
   ],
   "metadata": {
    "id": "G6lNDZFok2kV"
   },
   "id": "G6lNDZFok2kV",
   "execution_count": 1,
   "outputs": []
  },
  {
   "cell_type": "markdown",
   "metadata": {
    "id": "3a2LymEyaJE8"
   },
   "source": [
    "#### Import"
   ],
   "id": "3a2LymEyaJE8"
  },
  {
   "cell_type": "code",
   "execution_count": 2,
   "metadata": {
    "id": "56e5ddd9-d284-4dee-8ba7-12c8a3bebb02"
   },
   "outputs": [],
   "source": [
    "import t_ragx\n",
    "import glob\n",
    "import logging\n",
    "\n",
    "logging.getLogger(\"httpx\").setLevel(logging.WARNING)\n",
    "logging.getLogger(\"elasticsearch\").setLevel(logging.WARNING)\n",
    "logging.getLogger(\"llama-cpp-python\").setLevel(logging.WARNING)"
   ],
   "id": "56e5ddd9-d284-4dee-8ba7-12c8a3bebb02"
  },
  {
   "cell_type": "markdown",
   "metadata": {
    "id": "5e0cbbf9-bd4d-4f7e-99c8-44f6721da1c6"
   },
   "source": [
    "### Setup the input processor\n",
    "\n",
    "Input processor will hand the memory/ glossary retrieval for us"
   ],
   "id": "5e0cbbf9-bd4d-4f7e-99c8-44f6721da1c6"
  },
  {
   "cell_type": "code",
   "execution_count": 3,
   "metadata": {
    "id": "c0999785-7186-49cf-88c0-58df565dcd77"
   },
   "outputs": [],
   "source": [
    "input_processor = t_ragx.processors.ElasticInputProcessor()\n",
    "\n",
    "input_processor.load_general_glossary()\n",
    "input_processor.load_general_translation(elastic_index=\"general_translation_memory\", elasticsearch_host=[\"https://t-ragx-fossil.rayliu.ca\", \"https://t-ragx-fossil2.rayliu.ca\"])"
   ],
   "id": "c0999785-7186-49cf-88c0-58df565dcd77"
  },
  {
   "cell_type": "markdown",
   "metadata": {
    "id": "601a9104-7d5d-4f74-bf99-f5eec80e3b2c"
   },
   "source": [
    "#### Let's try it out!"
   ],
   "id": "601a9104-7d5d-4f74-bf99-f5eec80e3b2c"
  },
  {
   "cell_type": "code",
   "execution_count": 4,
   "metadata": {
    "id": "11e83d56-4061-4070-a3ce-3a09f16e86c4"
   },
   "outputs": [],
   "source": [
    "example = \"ティラノサウルス（学名：genus Tyrannosaurus）は、約7,000万 - 約6,600万年前（中生代白亜紀末期マーストリヒチアン）の北アメリカ大陸（画像資料[注 1]）に生息していた肉食恐竜\""
   ],
   "id": "11e83d56-4061-4070-a3ce-3a09f16e86c4"
  },
  {
   "cell_type": "code",
   "execution_count": 5,
   "metadata": {
    "id": "69258368-59bc-4868-a56c-532b68e8a4e1",
    "colab": {
     "base_uri": "https://localhost:8080/"
    },
    "outputId": "4aefb64d-16ff-4f2a-e490-e9bd124df5ad"
   },
   "outputs": [
    {
     "output_type": "execute_result",
     "data": {
      "text/plain": [
       "[{'ティラノサウルス': ['9951 Tyrannosaurus', 'Tyrannosaurus'],\n",
       "  '北アメリカ': ['North America'],\n",
       "  '白亜紀': ['Cretaceous'],\n",
       "  '中生代': ['Mesozoic'],\n",
       "  'ストリ': ['Stryj', 'Sutri']}]"
      ]
     },
     "metadata": {},
     "execution_count": 5
    }
   ],
   "source": [
    "glossary_results = input_processor.batch_search_glossary([example], max_k=5, source_lang='ja', target_lang='en')\n",
    "glossary_results"
   ],
   "id": "69258368-59bc-4868-a56c-532b68e8a4e1"
  },
  {
   "cell_type": "code",
   "execution_count": 6,
   "metadata": {
    "id": "3ba3c0a4-028f-4883-a52c-cbdac6fc9e2e",
    "colab": {
     "base_uri": "https://localhost:8080/"
    },
    "outputId": "47bb3719-12e2-493b-b964-e8772acdffa2"
   },
   "outputs": [
    {
     "output_type": "execute_result",
     "data": {
      "text/plain": [
       "[[{'score': 48.205418,\n",
       "   'distance': 79,\n",
       "   'ja': '巨大なティラノサウルスは8000万~6600万年前の後期白亜紀に繁栄しました。',\n",
       "   'en': 'Gigantic tyrannosaurs thrived in the Late Cretaceous from 80-66 million years ago.',\n",
       "   'normed_distance': 0.7745098039215687},\n",
       "  {'score': 54.356842,\n",
       "   'distance': 85,\n",
       "   'ja': 'この恐竜は、白亜紀のカンパニアン期(約7100万~7500万年前)に現在のモンゴルにあたる地域で生息していた。',\n",
       "   'en': 'Halszkaraptor escuilliei lived during the Campanian stage of the Cretaceous (about 71-75 million years ago) in what is now Mongolia. ',\n",
       "   'normed_distance': 0.8333333333333334},\n",
       "  {'score': 49.845387,\n",
       "   'distance': 90,\n",
       "   'ja': 'それは、白亜紀の終わりの6,600万年前に起こった。',\n",
       "   'en': 'That happened 66m years ago, at the end of the Cretaceous period.',\n",
       "   'normed_distance': 0.8823529411764706}]]"
      ]
     },
     "metadata": {},
     "execution_count": 6
    }
   ],
   "source": [
    "memory_results = input_processor.search_memory([example], top_k=3, source_lang='ja', target_lang='en')\n",
    "memory_results"
   ],
   "id": "3ba3c0a4-028f-4883-a52c-cbdac6fc9e2e"
  },
  {
   "cell_type": "markdown",
   "metadata": {
    "id": "d86e6ff9-154f-4dcd-91b3-fda809757849"
   },
   "source": [
    "### Setup the models\n",
    "\n",
    "We have a few options here. T-Ragx supports HuggingFace Transformers, llama-cpp-python, or OpenAI/ Ollama based API as backends\n"
   ],
   "id": "d86e6ff9-154f-4dcd-91b3-fda809757849"
  },
  {
   "cell_type": "code",
   "execution_count": 7,
   "metadata": {
    "id": "a5465a40-7e6b-40cc-b46c-f7b4483e6dcd",
    "colab": {
     "base_uri": "https://localhost:8080/"
    },
    "outputId": "82f597f9-ea8a-4eea-b223-c79f7a116e82"
   },
   "outputs": [
    {
     "output_type": "stream",
     "name": "stderr",
     "text": [
      "/usr/local/lib/python3.10/dist-packages/huggingface_hub/utils/_token.py:88: UserWarning: \n",
      "The secret `HF_TOKEN` does not exist in your Colab secrets.\n",
      "To authenticate with the Hugging Face Hub, create a token in your settings tab (https://huggingface.co/settings/tokens), set it as secret in your Google Colab and restart your session.\n",
      "You will be able to reuse this secret in all of your notebooks.\n",
      "Please note that authentication is recommended but still optional to access public models or datasets.\n",
      "  warnings.warn(\n",
      "AVX = 1 | AVX_VNNI = 0 | AVX2 = 1 | AVX512 = 1 | AVX512_VBMI = 0 | AVX512_VNNI = 0 | FMA = 1 | NEON = 0 | ARM_FMA = 0 | F16C = 1 | FP16_VA = 0 | WASM_SIMD = 0 | BLAS = 1 | SSE3 = 1 | SSSE3 = 1 | VSX = 0 | MATMUL_INT8 = 0 | \n",
      "Model metadata: {'tokenizer.chat_template': \"{{ bos_token }}{% for message in messages %}{% if (message['role'] == 'user') != (loop.index0 % 2 == 0) %}{{ raise_exception('Conversation roles must alternate user/assistant/user/assistant/...') }}{% endif %}{% if message['role'] == 'user' %}{{ '[INST] ' + message['content'] + ' [/INST]' }}{% elif message['role'] == 'assistant' %}{{ message['content'] + eos_token}}{% else %}{{ raise_exception('Only user and assistant roles are supported!') }}{% endif %}{% endfor %}\", 'tokenizer.ggml.add_eos_token': 'false', 'tokenizer.ggml.unknown_token_id': '0', 'tokenizer.ggml.eos_token_id': '2', 'general.architecture': 'llama', 'llama.rope.freq_base': '1000000.000000', 'llama.context_length': '32768', 'general.name': '.', 'tokenizer.ggml.add_bos_token': 'true', 'llama.embedding_length': '4096', 'llama.feed_forward_length': '14336', 'llama.attention.layer_norm_rms_epsilon': '0.000010', 'llama.rope.dimension_count': '128', 'tokenizer.ggml.bos_token_id': '1', 'llama.attention.head_count': '32', 'llama.block_count': '32', 'llama.attention.head_count_kv': '8', 'general.quantization_version': '2', 'tokenizer.ggml.model': 'llama', 'general.file_type': '15'}\n"
     ]
    }
   ],
   "source": [
    "# mistral_model = t_ragx.models.OllamaModel(host='localhost', port='11434', endpoint='/api/generate', model=\"t_ragx_beagle\",\n",
    "#                  protocol=\"http\")\n",
    "\n",
    "# mistral_model = t_ragx.models.OpenAIModel(host='localhost', port=11434, endpoint='/v1', model=\"t_ragx_mistral\",\n",
    "#                  protocol=\"http\")\n",
    "\n",
    "mistral_model = t_ragx.models.LlamaCppPythonModel(\n",
    "    repo_id=\"rayliuca/TRagx-GGUF-Mistral-7B-Instruct-v0.2\",\n",
    "    filename=\"*Q4_K_M*\",\n",
    "    chat_format=\"mistral-instruct\",\n",
    "    model_config={'n_ctx':2048},\n",
    ")"
   ],
   "id": "a5465a40-7e6b-40cc-b46c-f7b4483e6dcd"
  },
  {
   "cell_type": "markdown",
   "metadata": {
    "id": "80b76bca-90e3-44d5-b2ac-e98847fd3863"
   },
   "source": [
    "#### Putting all the pieces together to create the true T-Ragx"
   ],
   "id": "80b76bca-90e3-44d5-b2ac-e98847fd3863"
  },
  {
   "cell_type": "code",
   "execution_count": 8,
   "metadata": {
    "id": "46e2b203-b5d7-418b-8fc8-63d81c008805"
   },
   "outputs": [],
   "source": [
    "t_ragx_translator = t_ragx.TRagx([mistral_model], input_processor=input_processor)"
   ],
   "id": "46e2b203-b5d7-418b-8fc8-63d81c008805"
  },
  {
   "cell_type": "markdown",
   "metadata": {
    "id": "9924a400-6cfb-4ac4-bedf-b34c861ad762"
   },
   "source": [
    "#### And Translate!"
   ],
   "id": "9924a400-6cfb-4ac4-bedf-b34c861ad762"
  },
  {
   "cell_type": "code",
   "execution_count": 9,
   "metadata": {
    "id": "d431fa2d-563a-407f-9752-907c1f038acd",
    "colab": {
     "base_uri": "https://localhost:8080/",
     "height": 84,
     "referenced_widgets": [
      "5c99bbde87d84765bd44d2447e7890e6",
      "2333d7767c3241eeb7964e55d65f54bd",
      "e25e967de85f4156890a3bc83a0451e1",
      "9be3272689e1451789395f648a10e8d6",
      "5b91bfd89666417fa6d040a5c29d0eed",
      "ea47d064de684d619f81c1f22f0adaef",
      "1b4d1b46ab2b4b9da345e1f0ee4c1086",
      "7f2a8f1c2f184165a0db7f4d640e5616",
      "08d0b93c9d2b4f53bde3ec3eb217c0fd",
      "2d9f7ad996ea4a39bb26dd4edec5fbe5",
      "73878a490468450b82e2177a7dc1a108"
     ]
    },
    "outputId": "f5af9506-fe60-42fd-cd9e-f302b0c99e42"
   },
   "outputs": [
    {
     "output_type": "display_data",
     "data": {
      "text/plain": [
       "  0%|          | 0/1 [00:00<?, ?it/s]"
      ],
      "application/vnd.jupyter.widget-view+json": {
       "version_major": 2,
       "version_minor": 0,
       "model_id": "5c99bbde87d84765bd44d2447e7890e6"
      }
     },
     "metadata": {}
    },
    {
     "output_type": "execute_result",
     "data": {
      "text/plain": [
       "['Tyrannosaurus (genus name) was a carnivorous theropod dinosaur that lived approximately 70-66 million years ago (Late Cretaceous, late Maastrichtian) on the North American continent (image data [note 1]).']"
      ]
     },
     "metadata": {},
     "execution_count": 9
    }
   ],
   "source": [
    "t_ragx_translator.batch_translate([example], source_lang_code='ja', target_lang_code='en', memory_search_args={'top_k':3}, generation_args=[{'max_tokens':2048}])"
   ],
   "id": "d431fa2d-563a-407f-9752-907c1f038acd"
  },
  {
   "cell_type": "markdown",
   "metadata": {
    "id": "2017eff7-4acb-49d4-bb40-75dd2b45c1a7"
   },
   "source": [
    "### Document Level Translation\n",
    "\n",
    "Lets try to translate a sample text from WMT23"
   ],
   "id": "2017eff7-4acb-49d4-bb40-75dd2b45c1a7"
  },
  {
   "cell_type": "code",
   "execution_count": 10,
   "metadata": {
    "id": "0740e957-1df0-40c3-be64-1fb089f7c8a4"
   },
   "outputs": [],
   "source": [
    "sample_text_list = [\n",
    "    '徹底した感染対策／クラツー公式 - 助成金でお得旅',\n",
    "    '助成金ツアー・県民割旅行ならクラブツーリズム！',\n",
    "    '各都道府県毎の助成を活用したツアーをご紹介。',\n",
    "    '密集・密閉・密接を避けた新しい旅の形をご提案。',\n",
    "    '助成金ツアーで旅に出よう／クラブツーリズム。',\n",
    "    'CTPは全国旅行支援と併用可・到着地: 沖縄, 関西, 北海道, 東北, 九州。'\n",
    "]"
   ],
   "id": "0740e957-1df0-40c3-be64-1fb089f7c8a4"
  },
  {
   "cell_type": "markdown",
   "metadata": {
    "id": "160858e4-0361-4418-ad1e-94cd58dff6fe"
   },
   "source": [
    "#### Get preceeding text using the helper utility"
   ],
   "id": "160858e4-0361-4418-ad1e-94cd58dff6fe"
  },
  {
   "cell_type": "code",
   "execution_count": 11,
   "metadata": {
    "id": "c4d8cee9-b7c6-4c59-a9a2-501836dc4553",
    "colab": {
     "base_uri": "https://localhost:8080/"
    },
    "outputId": "52cce7c1-a4ba-40a1-bf0b-63f6f3d61fb2"
   },
   "outputs": [
    {
     "output_type": "execute_result",
     "data": {
      "text/plain": [
       "[[],\n",
       " ['徹底した感染対策／クラツー公式 - 助成金でお得旅'],\n",
       " ['徹底した感染対策／クラツー公式 - 助成金でお得旅', '助成金ツアー・県民割旅行ならクラブツーリズム！'],\n",
       " ['徹底した感染対策／クラツー公式 - 助成金でお得旅',\n",
       "  '助成金ツアー・県民割旅行ならクラブツーリズム！',\n",
       "  '各都道府県毎の助成を活用したツアーをご紹介。'],\n",
       " ['助成金ツアー・県民割旅行ならクラブツーリズム！',\n",
       "  '各都道府県毎の助成を活用したツアーをご紹介。',\n",
       "  '密集・密閉・密接を避けた新しい旅の形をご提案。'],\n",
       " ['各都道府県毎の助成を活用したツアーをご紹介。',\n",
       "  '密集・密閉・密接を避けた新しい旅の形をご提案。',\n",
       "  '助成金ツアーで旅に出よう／クラブツーリズム。']]"
      ]
     },
     "metadata": {},
     "execution_count": 11
    }
   ],
   "source": [
    "pre_text_list = t_ragx.utils.helper.get_preceding_text(sample_text_list)\n",
    "pre_text_list"
   ],
   "id": "c4d8cee9-b7c6-4c59-a9a2-501836dc4553"
  },
  {
   "cell_type": "markdown",
   "metadata": {
    "id": "c72a67f3-96b7-42dc-a6e1-7683c6e29866"
   },
   "source": [
    "#### Translate!"
   ],
   "id": "c72a67f3-96b7-42dc-a6e1-7683c6e29866"
  },
  {
   "cell_type": "code",
   "execution_count": 12,
   "metadata": {
    "colab": {
     "base_uri": "https://localhost:8080/",
     "height": 171,
     "referenced_widgets": [
      "ca0f3d57260c405e8127ab717f9ced2f",
      "3f767c958d8a43a298035d3bf8cb7e63",
      "c96da1e0ade449ea98d3ac110f19ad3a",
      "513ceb95327d4243853814f9d28baf4a",
      "508b0ea88f3e4a959e15bdb896827a8b",
      "6de3c24fe323427187465eab5a6e8365",
      "6e1e3353d03f4ec98a1428c4e45d8958",
      "074a687073be46eab8f153646529683a",
      "8ff67d1ea19b4b11a986ec784b6dc5c0",
      "99daeb1bbf3c42139df19b8d0ed5bfa2",
      "99b718fd8d114fa68c2e99e0cd051de4"
     ]
    },
    "id": "241be936-0bf7-445e-b9e5-2932cc935ebb",
    "outputId": "ea738f1a-74c1-4bcc-8ece-0111f801a6ac"
   },
   "outputs": [
    {
     "output_type": "display_data",
     "data": {
      "text/plain": [
       "  0%|          | 0/6 [00:00<?, ?it/s]"
      ],
      "application/vnd.jupyter.widget-view+json": {
       "version_major": 2,
       "version_minor": 0,
       "model_id": "ca0f3d57260c405e8127ab717f9ced2f"
      }
     },
     "metadata": {}
    },
    {
     "output_type": "execute_result",
     "data": {
      "text/plain": [
       "['Thorough infection prevention measures / Katsuura Official - Affordable travel with subsidies',\n",
       " \"If it's a subsidized tour or a hometown trip, it's club tourism!\",\n",
       " 'We introduce tours that make use of subsidies from each prefecture.',\n",
       " 'We propose new forms of travel that avoid crowded, enclosed and close-contact situations.',\n",
       " 'Go on a tour with subsidized travel ② Club Tourism.',\n",
       " 'CTP can be used for national travel support and can be used at the following destinations: Okinawa, Kansai, Hokkaido, Tohoku, and Kyushu.']"
      ]
     },
     "metadata": {},
     "execution_count": 12
    }
   ],
   "source": [
    "t_ragx_translator.batch_translate(sample_text_list, pre_text_list=pre_text_list, source_lang_code='ja', target_lang_code='en', memory_search_args={'top_k':3})"
   ],
   "id": "241be936-0bf7-445e-b9e5-2932cc935ebb"
  },
  {
   "cell_type": "markdown",
   "metadata": {
    "id": "158cc3e2-f205-4dd4-a842-12dbcbd40611"
   },
   "source": [
    "#### Notice that the translation is non-deterministic, so there would be some variations every time"
   ],
   "id": "158cc3e2-f205-4dd4-a842-12dbcbd40611"
  },
  {
   "cell_type": "code",
   "execution_count": 13,
   "metadata": {
    "id": "e406a788-7166-4336-a3e1-2778ca210d96",
    "colab": {
     "base_uri": "https://localhost:8080/",
     "height": 171,
     "referenced_widgets": [
      "e971d713ead54ea593db87bb1542f5f9",
      "7fafc3a85a664a76bd88813b750515a1",
      "9564ad7c88f14cde89f6a44ecc106261",
      "a33228002e8f4f84a81b41999d370e4b",
      "4a2cbe1f2965402a99f1ba832a146efc",
      "4a531608bb944423902cc170cc99e781",
      "bf4589e7a99d4bf2941f2c66c8aa8799",
      "2e9c88f8c3d24d78883f63606ca506ee",
      "5c1f96464e244c0eb47a0a3a35f35fb2",
      "655be718c3364a3dbe3e97ec71076bd6",
      "2ff1b418b6af4d8fa35cce6f46216276"
     ]
    },
    "outputId": "0113a111-78d4-4b42-fbf5-25f67dfe821c"
   },
   "outputs": [
    {
     "output_type": "display_data",
     "data": {
      "text/plain": [
       "  0%|          | 0/6 [00:00<?, ?it/s]"
      ],
      "application/vnd.jupyter.widget-view+json": {
       "version_major": 2,
       "version_minor": 0,
       "model_id": "e971d713ead54ea593db87bb1542f5f9"
      }
     },
     "metadata": {}
    },
    {
     "output_type": "execute_result",
     "data": {
      "text/plain": [
       "['Thorough infection prevention measures / Katsuura Official - Affordable travel with subsidies',\n",
       " \"If it's a subsidized tour or a citizen's tour, it's club tourism!\",\n",
       " 'Here is a tour that utilizes the grants available in each prefecture.',\n",
       " 'We propose a new form of travel to avoid crowded and closed spaces and close contact.',\n",
       " 'Go on a tour with subsidies! Club Tourism.',\n",
       " 'CTP can be used for nationwide travel support and can be used for the following destinations: Okinawa, Kansai, Hokkaido, Tohoku, and Kyushu.']"
      ]
     },
     "metadata": {},
     "execution_count": 13
    }
   ],
   "source": [
    "t_ragx_translator.batch_translate(sample_text_list, pre_text_list=pre_text_list, source_lang_code='ja', target_lang_code='en', memory_search_args={'top_k':3})"
   ],
   "id": "e406a788-7166-4336-a3e1-2778ca210d96"
  },
  {
   "cell_type": "markdown",
   "metadata": {
    "id": "4d5cd12a-7b8a-4d18-8343-7b9c4150a68a"
   },
   "source": [
    "### Expected Translations (TRagx-Mistral-7B-Instruct-v0.2 without quantization)\n",
    "- Thorough infection countermeasures/Katsuura official - Affordable travel with subsidies\n",
    "- If you're looking for a subsidized tour or a discounted trip for residents, then Club Tourism!\n",
    "- Here are some tours that make use of the subsidies offered by each prefecture.\n",
    "- We propose a new form of travel that avoids crowded, closed, and close contact.\n",
    "- Go on a tour with subsidies/Club Tourism.\n",
    "- CTP can be used for nationwide travel support and can be used in conjunction with other travel support programs. Arrival destinations: Okinawa, Kansai, Hokkaido, Tohoku, Kyushu.\n",
    "\n",
    "\n",
    "### Reference Translation\n",
    "- Thorough Infection Controls / Club Tourism Official - Subsidized Budget Travel\n",
    "- Subsidized Tours - Club Tourism for Domestic Tourism Campaign!\n",
    "- We provide tours that take advantage of subsidies in each prefecture.\n",
    "- We suggest a new type of travel that avoids crowded places, closed spaces, and close contact.\n",
    "- Take a Trip on a Subsidized Tour / Club Tourism.\n",
    "- The Club Tourism Pass can be used with the national travel subsidy program - Destinations: Okinawa, Kansai, Hokkaido, Tohoku, Kyushu.\n"
   ],
   "id": "4d5cd12a-7b8a-4d18-8343-7b9c4150a68a"
  }
 ],
 "metadata": {
  "accelerator": "GPU",
  "colab": {
   "gpuType": "T4",
   "provenance": [],
   "collapsed_sections": [
    "R9-IadxMZ8eo"
   ]
  },
  "kernelspec": {
   "display_name": "t_rag",
   "language": "python",
   "name": "t_rag"
  },
  "language_info": {
   "codemirror_mode": {
    "name": "ipython",
    "version": 3
   },
   "file_extension": ".py",
   "mimetype": "text/x-python",
   "name": "python",
   "nbconvert_exporter": "python",
   "pygments_lexer": "ipython3",
   "version": "3.9.18"
  },
  "widgets": {
   "application/vnd.jupyter.widget-state+json": {
    "5c99bbde87d84765bd44d2447e7890e6": {
     "model_module": "@jupyter-widgets/controls",
     "model_name": "HBoxModel",
     "model_module_version": "1.5.0",
     "state": {
      "_dom_classes": [],
      "_model_module": "@jupyter-widgets/controls",
      "_model_module_version": "1.5.0",
      "_model_name": "HBoxModel",
      "_view_count": null,
      "_view_module": "@jupyter-widgets/controls",
      "_view_module_version": "1.5.0",
      "_view_name": "HBoxView",
      "box_style": "",
      "children": [
       "IPY_MODEL_2333d7767c3241eeb7964e55d65f54bd",
       "IPY_MODEL_e25e967de85f4156890a3bc83a0451e1",
       "IPY_MODEL_9be3272689e1451789395f648a10e8d6"
      ],
      "layout": "IPY_MODEL_5b91bfd89666417fa6d040a5c29d0eed"
     }
    },
    "2333d7767c3241eeb7964e55d65f54bd": {
     "model_module": "@jupyter-widgets/controls",
     "model_name": "HTMLModel",
     "model_module_version": "1.5.0",
     "state": {
      "_dom_classes": [],
      "_model_module": "@jupyter-widgets/controls",
      "_model_module_version": "1.5.0",
      "_model_name": "HTMLModel",
      "_view_count": null,
      "_view_module": "@jupyter-widgets/controls",
      "_view_module_version": "1.5.0",
      "_view_name": "HTMLView",
      "description": "",
      "description_tooltip": null,
      "layout": "IPY_MODEL_ea47d064de684d619f81c1f22f0adaef",
      "placeholder": "​",
      "style": "IPY_MODEL_1b4d1b46ab2b4b9da345e1f0ee4c1086",
      "value": "100%"
     }
    },
    "e25e967de85f4156890a3bc83a0451e1": {
     "model_module": "@jupyter-widgets/controls",
     "model_name": "FloatProgressModel",
     "model_module_version": "1.5.0",
     "state": {
      "_dom_classes": [],
      "_model_module": "@jupyter-widgets/controls",
      "_model_module_version": "1.5.0",
      "_model_name": "FloatProgressModel",
      "_view_count": null,
      "_view_module": "@jupyter-widgets/controls",
      "_view_module_version": "1.5.0",
      "_view_name": "ProgressView",
      "bar_style": "success",
      "description": "",
      "description_tooltip": null,
      "layout": "IPY_MODEL_7f2a8f1c2f184165a0db7f4d640e5616",
      "max": 1,
      "min": 0,
      "orientation": "horizontal",
      "style": "IPY_MODEL_08d0b93c9d2b4f53bde3ec3eb217c0fd",
      "value": 1
     }
    },
    "9be3272689e1451789395f648a10e8d6": {
     "model_module": "@jupyter-widgets/controls",
     "model_name": "HTMLModel",
     "model_module_version": "1.5.0",
     "state": {
      "_dom_classes": [],
      "_model_module": "@jupyter-widgets/controls",
      "_model_module_version": "1.5.0",
      "_model_name": "HTMLModel",
      "_view_count": null,
      "_view_module": "@jupyter-widgets/controls",
      "_view_module_version": "1.5.0",
      "_view_name": "HTMLView",
      "description": "",
      "description_tooltip": null,
      "layout": "IPY_MODEL_2d9f7ad996ea4a39bb26dd4edec5fbe5",
      "placeholder": "​",
      "style": "IPY_MODEL_73878a490468450b82e2177a7dc1a108",
      "value": " 1/1 [00:47&lt;00:00, 47.25s/it]"
     }
    },
    "5b91bfd89666417fa6d040a5c29d0eed": {
     "model_module": "@jupyter-widgets/base",
     "model_name": "LayoutModel",
     "model_module_version": "1.2.0",
     "state": {
      "_model_module": "@jupyter-widgets/base",
      "_model_module_version": "1.2.0",
      "_model_name": "LayoutModel",
      "_view_count": null,
      "_view_module": "@jupyter-widgets/base",
      "_view_module_version": "1.2.0",
      "_view_name": "LayoutView",
      "align_content": null,
      "align_items": null,
      "align_self": null,
      "border": null,
      "bottom": null,
      "display": null,
      "flex": null,
      "flex_flow": null,
      "grid_area": null,
      "grid_auto_columns": null,
      "grid_auto_flow": null,
      "grid_auto_rows": null,
      "grid_column": null,
      "grid_gap": null,
      "grid_row": null,
      "grid_template_areas": null,
      "grid_template_columns": null,
      "grid_template_rows": null,
      "height": null,
      "justify_content": null,
      "justify_items": null,
      "left": null,
      "margin": null,
      "max_height": null,
      "max_width": null,
      "min_height": null,
      "min_width": null,
      "object_fit": null,
      "object_position": null,
      "order": null,
      "overflow": null,
      "overflow_x": null,
      "overflow_y": null,
      "padding": null,
      "right": null,
      "top": null,
      "visibility": null,
      "width": null
     }
    },
    "ea47d064de684d619f81c1f22f0adaef": {
     "model_module": "@jupyter-widgets/base",
     "model_name": "LayoutModel",
     "model_module_version": "1.2.0",
     "state": {
      "_model_module": "@jupyter-widgets/base",
      "_model_module_version": "1.2.0",
      "_model_name": "LayoutModel",
      "_view_count": null,
      "_view_module": "@jupyter-widgets/base",
      "_view_module_version": "1.2.0",
      "_view_name": "LayoutView",
      "align_content": null,
      "align_items": null,
      "align_self": null,
      "border": null,
      "bottom": null,
      "display": null,
      "flex": null,
      "flex_flow": null,
      "grid_area": null,
      "grid_auto_columns": null,
      "grid_auto_flow": null,
      "grid_auto_rows": null,
      "grid_column": null,
      "grid_gap": null,
      "grid_row": null,
      "grid_template_areas": null,
      "grid_template_columns": null,
      "grid_template_rows": null,
      "height": null,
      "justify_content": null,
      "justify_items": null,
      "left": null,
      "margin": null,
      "max_height": null,
      "max_width": null,
      "min_height": null,
      "min_width": null,
      "object_fit": null,
      "object_position": null,
      "order": null,
      "overflow": null,
      "overflow_x": null,
      "overflow_y": null,
      "padding": null,
      "right": null,
      "top": null,
      "visibility": null,
      "width": null
     }
    },
    "1b4d1b46ab2b4b9da345e1f0ee4c1086": {
     "model_module": "@jupyter-widgets/controls",
     "model_name": "DescriptionStyleModel",
     "model_module_version": "1.5.0",
     "state": {
      "_model_module": "@jupyter-widgets/controls",
      "_model_module_version": "1.5.0",
      "_model_name": "DescriptionStyleModel",
      "_view_count": null,
      "_view_module": "@jupyter-widgets/base",
      "_view_module_version": "1.2.0",
      "_view_name": "StyleView",
      "description_width": ""
     }
    },
    "7f2a8f1c2f184165a0db7f4d640e5616": {
     "model_module": "@jupyter-widgets/base",
     "model_name": "LayoutModel",
     "model_module_version": "1.2.0",
     "state": {
      "_model_module": "@jupyter-widgets/base",
      "_model_module_version": "1.2.0",
      "_model_name": "LayoutModel",
      "_view_count": null,
      "_view_module": "@jupyter-widgets/base",
      "_view_module_version": "1.2.0",
      "_view_name": "LayoutView",
      "align_content": null,
      "align_items": null,
      "align_self": null,
      "border": null,
      "bottom": null,
      "display": null,
      "flex": null,
      "flex_flow": null,
      "grid_area": null,
      "grid_auto_columns": null,
      "grid_auto_flow": null,
      "grid_auto_rows": null,
      "grid_column": null,
      "grid_gap": null,
      "grid_row": null,
      "grid_template_areas": null,
      "grid_template_columns": null,
      "grid_template_rows": null,
      "height": null,
      "justify_content": null,
      "justify_items": null,
      "left": null,
      "margin": null,
      "max_height": null,
      "max_width": null,
      "min_height": null,
      "min_width": null,
      "object_fit": null,
      "object_position": null,
      "order": null,
      "overflow": null,
      "overflow_x": null,
      "overflow_y": null,
      "padding": null,
      "right": null,
      "top": null,
      "visibility": null,
      "width": null
     }
    },
    "08d0b93c9d2b4f53bde3ec3eb217c0fd": {
     "model_module": "@jupyter-widgets/controls",
     "model_name": "ProgressStyleModel",
     "model_module_version": "1.5.0",
     "state": {
      "_model_module": "@jupyter-widgets/controls",
      "_model_module_version": "1.5.0",
      "_model_name": "ProgressStyleModel",
      "_view_count": null,
      "_view_module": "@jupyter-widgets/base",
      "_view_module_version": "1.2.0",
      "_view_name": "StyleView",
      "bar_color": null,
      "description_width": ""
     }
    },
    "2d9f7ad996ea4a39bb26dd4edec5fbe5": {
     "model_module": "@jupyter-widgets/base",
     "model_name": "LayoutModel",
     "model_module_version": "1.2.0",
     "state": {
      "_model_module": "@jupyter-widgets/base",
      "_model_module_version": "1.2.0",
      "_model_name": "LayoutModel",
      "_view_count": null,
      "_view_module": "@jupyter-widgets/base",
      "_view_module_version": "1.2.0",
      "_view_name": "LayoutView",
      "align_content": null,
      "align_items": null,
      "align_self": null,
      "border": null,
      "bottom": null,
      "display": null,
      "flex": null,
      "flex_flow": null,
      "grid_area": null,
      "grid_auto_columns": null,
      "grid_auto_flow": null,
      "grid_auto_rows": null,
      "grid_column": null,
      "grid_gap": null,
      "grid_row": null,
      "grid_template_areas": null,
      "grid_template_columns": null,
      "grid_template_rows": null,
      "height": null,
      "justify_content": null,
      "justify_items": null,
      "left": null,
      "margin": null,
      "max_height": null,
      "max_width": null,
      "min_height": null,
      "min_width": null,
      "object_fit": null,
      "object_position": null,
      "order": null,
      "overflow": null,
      "overflow_x": null,
      "overflow_y": null,
      "padding": null,
      "right": null,
      "top": null,
      "visibility": null,
      "width": null
     }
    },
    "73878a490468450b82e2177a7dc1a108": {
     "model_module": "@jupyter-widgets/controls",
     "model_name": "DescriptionStyleModel",
     "model_module_version": "1.5.0",
     "state": {
      "_model_module": "@jupyter-widgets/controls",
      "_model_module_version": "1.5.0",
      "_model_name": "DescriptionStyleModel",
      "_view_count": null,
      "_view_module": "@jupyter-widgets/base",
      "_view_module_version": "1.2.0",
      "_view_name": "StyleView",
      "description_width": ""
     }
    },
    "ca0f3d57260c405e8127ab717f9ced2f": {
     "model_module": "@jupyter-widgets/controls",
     "model_name": "HBoxModel",
     "model_module_version": "1.5.0",
     "state": {
      "_dom_classes": [],
      "_model_module": "@jupyter-widgets/controls",
      "_model_module_version": "1.5.0",
      "_model_name": "HBoxModel",
      "_view_count": null,
      "_view_module": "@jupyter-widgets/controls",
      "_view_module_version": "1.5.0",
      "_view_name": "HBoxView",
      "box_style": "",
      "children": [
       "IPY_MODEL_3f767c958d8a43a298035d3bf8cb7e63",
       "IPY_MODEL_c96da1e0ade449ea98d3ac110f19ad3a",
       "IPY_MODEL_513ceb95327d4243853814f9d28baf4a"
      ],
      "layout": "IPY_MODEL_508b0ea88f3e4a959e15bdb896827a8b"
     }
    },
    "3f767c958d8a43a298035d3bf8cb7e63": {
     "model_module": "@jupyter-widgets/controls",
     "model_name": "HTMLModel",
     "model_module_version": "1.5.0",
     "state": {
      "_dom_classes": [],
      "_model_module": "@jupyter-widgets/controls",
      "_model_module_version": "1.5.0",
      "_model_name": "HTMLModel",
      "_view_count": null,
      "_view_module": "@jupyter-widgets/controls",
      "_view_module_version": "1.5.0",
      "_view_name": "HTMLView",
      "description": "",
      "description_tooltip": null,
      "layout": "IPY_MODEL_6de3c24fe323427187465eab5a6e8365",
      "placeholder": "​",
      "style": "IPY_MODEL_6e1e3353d03f4ec98a1428c4e45d8958",
      "value": "100%"
     }
    },
    "c96da1e0ade449ea98d3ac110f19ad3a": {
     "model_module": "@jupyter-widgets/controls",
     "model_name": "FloatProgressModel",
     "model_module_version": "1.5.0",
     "state": {
      "_dom_classes": [],
      "_model_module": "@jupyter-widgets/controls",
      "_model_module_version": "1.5.0",
      "_model_name": "FloatProgressModel",
      "_view_count": null,
      "_view_module": "@jupyter-widgets/controls",
      "_view_module_version": "1.5.0",
      "_view_name": "ProgressView",
      "bar_style": "success",
      "description": "",
      "description_tooltip": null,
      "layout": "IPY_MODEL_074a687073be46eab8f153646529683a",
      "max": 6,
      "min": 0,
      "orientation": "horizontal",
      "style": "IPY_MODEL_8ff67d1ea19b4b11a986ec784b6dc5c0",
      "value": 6
     }
    },
    "513ceb95327d4243853814f9d28baf4a": {
     "model_module": "@jupyter-widgets/controls",
     "model_name": "HTMLModel",
     "model_module_version": "1.5.0",
     "state": {
      "_dom_classes": [],
      "_model_module": "@jupyter-widgets/controls",
      "_model_module_version": "1.5.0",
      "_model_name": "HTMLModel",
      "_view_count": null,
      "_view_module": "@jupyter-widgets/controls",
      "_view_module_version": "1.5.0",
      "_view_name": "HTMLView",
      "description": "",
      "description_tooltip": null,
      "layout": "IPY_MODEL_99daeb1bbf3c42139df19b8d0ed5bfa2",
      "placeholder": "​",
      "style": "IPY_MODEL_99b718fd8d114fa68c2e99e0cd051de4",
      "value": " 6/6 [01:58&lt;00:00, 21.66s/it]"
     }
    },
    "508b0ea88f3e4a959e15bdb896827a8b": {
     "model_module": "@jupyter-widgets/base",
     "model_name": "LayoutModel",
     "model_module_version": "1.2.0",
     "state": {
      "_model_module": "@jupyter-widgets/base",
      "_model_module_version": "1.2.0",
      "_model_name": "LayoutModel",
      "_view_count": null,
      "_view_module": "@jupyter-widgets/base",
      "_view_module_version": "1.2.0",
      "_view_name": "LayoutView",
      "align_content": null,
      "align_items": null,
      "align_self": null,
      "border": null,
      "bottom": null,
      "display": null,
      "flex": null,
      "flex_flow": null,
      "grid_area": null,
      "grid_auto_columns": null,
      "grid_auto_flow": null,
      "grid_auto_rows": null,
      "grid_column": null,
      "grid_gap": null,
      "grid_row": null,
      "grid_template_areas": null,
      "grid_template_columns": null,
      "grid_template_rows": null,
      "height": null,
      "justify_content": null,
      "justify_items": null,
      "left": null,
      "margin": null,
      "max_height": null,
      "max_width": null,
      "min_height": null,
      "min_width": null,
      "object_fit": null,
      "object_position": null,
      "order": null,
      "overflow": null,
      "overflow_x": null,
      "overflow_y": null,
      "padding": null,
      "right": null,
      "top": null,
      "visibility": null,
      "width": null
     }
    },
    "6de3c24fe323427187465eab5a6e8365": {
     "model_module": "@jupyter-widgets/base",
     "model_name": "LayoutModel",
     "model_module_version": "1.2.0",
     "state": {
      "_model_module": "@jupyter-widgets/base",
      "_model_module_version": "1.2.0",
      "_model_name": "LayoutModel",
      "_view_count": null,
      "_view_module": "@jupyter-widgets/base",
      "_view_module_version": "1.2.0",
      "_view_name": "LayoutView",
      "align_content": null,
      "align_items": null,
      "align_self": null,
      "border": null,
      "bottom": null,
      "display": null,
      "flex": null,
      "flex_flow": null,
      "grid_area": null,
      "grid_auto_columns": null,
      "grid_auto_flow": null,
      "grid_auto_rows": null,
      "grid_column": null,
      "grid_gap": null,
      "grid_row": null,
      "grid_template_areas": null,
      "grid_template_columns": null,
      "grid_template_rows": null,
      "height": null,
      "justify_content": null,
      "justify_items": null,
      "left": null,
      "margin": null,
      "max_height": null,
      "max_width": null,
      "min_height": null,
      "min_width": null,
      "object_fit": null,
      "object_position": null,
      "order": null,
      "overflow": null,
      "overflow_x": null,
      "overflow_y": null,
      "padding": null,
      "right": null,
      "top": null,
      "visibility": null,
      "width": null
     }
    },
    "6e1e3353d03f4ec98a1428c4e45d8958": {
     "model_module": "@jupyter-widgets/controls",
     "model_name": "DescriptionStyleModel",
     "model_module_version": "1.5.0",
     "state": {
      "_model_module": "@jupyter-widgets/controls",
      "_model_module_version": "1.5.0",
      "_model_name": "DescriptionStyleModel",
      "_view_count": null,
      "_view_module": "@jupyter-widgets/base",
      "_view_module_version": "1.2.0",
      "_view_name": "StyleView",
      "description_width": ""
     }
    },
    "074a687073be46eab8f153646529683a": {
     "model_module": "@jupyter-widgets/base",
     "model_name": "LayoutModel",
     "model_module_version": "1.2.0",
     "state": {
      "_model_module": "@jupyter-widgets/base",
      "_model_module_version": "1.2.0",
      "_model_name": "LayoutModel",
      "_view_count": null,
      "_view_module": "@jupyter-widgets/base",
      "_view_module_version": "1.2.0",
      "_view_name": "LayoutView",
      "align_content": null,
      "align_items": null,
      "align_self": null,
      "border": null,
      "bottom": null,
      "display": null,
      "flex": null,
      "flex_flow": null,
      "grid_area": null,
      "grid_auto_columns": null,
      "grid_auto_flow": null,
      "grid_auto_rows": null,
      "grid_column": null,
      "grid_gap": null,
      "grid_row": null,
      "grid_template_areas": null,
      "grid_template_columns": null,
      "grid_template_rows": null,
      "height": null,
      "justify_content": null,
      "justify_items": null,
      "left": null,
      "margin": null,
      "max_height": null,
      "max_width": null,
      "min_height": null,
      "min_width": null,
      "object_fit": null,
      "object_position": null,
      "order": null,
      "overflow": null,
      "overflow_x": null,
      "overflow_y": null,
      "padding": null,
      "right": null,
      "top": null,
      "visibility": null,
      "width": null
     }
    },
    "8ff67d1ea19b4b11a986ec784b6dc5c0": {
     "model_module": "@jupyter-widgets/controls",
     "model_name": "ProgressStyleModel",
     "model_module_version": "1.5.0",
     "state": {
      "_model_module": "@jupyter-widgets/controls",
      "_model_module_version": "1.5.0",
      "_model_name": "ProgressStyleModel",
      "_view_count": null,
      "_view_module": "@jupyter-widgets/base",
      "_view_module_version": "1.2.0",
      "_view_name": "StyleView",
      "bar_color": null,
      "description_width": ""
     }
    },
    "99daeb1bbf3c42139df19b8d0ed5bfa2": {
     "model_module": "@jupyter-widgets/base",
     "model_name": "LayoutModel",
     "model_module_version": "1.2.0",
     "state": {
      "_model_module": "@jupyter-widgets/base",
      "_model_module_version": "1.2.0",
      "_model_name": "LayoutModel",
      "_view_count": null,
      "_view_module": "@jupyter-widgets/base",
      "_view_module_version": "1.2.0",
      "_view_name": "LayoutView",
      "align_content": null,
      "align_items": null,
      "align_self": null,
      "border": null,
      "bottom": null,
      "display": null,
      "flex": null,
      "flex_flow": null,
      "grid_area": null,
      "grid_auto_columns": null,
      "grid_auto_flow": null,
      "grid_auto_rows": null,
      "grid_column": null,
      "grid_gap": null,
      "grid_row": null,
      "grid_template_areas": null,
      "grid_template_columns": null,
      "grid_template_rows": null,
      "height": null,
      "justify_content": null,
      "justify_items": null,
      "left": null,
      "margin": null,
      "max_height": null,
      "max_width": null,
      "min_height": null,
      "min_width": null,
      "object_fit": null,
      "object_position": null,
      "order": null,
      "overflow": null,
      "overflow_x": null,
      "overflow_y": null,
      "padding": null,
      "right": null,
      "top": null,
      "visibility": null,
      "width": null
     }
    },
    "99b718fd8d114fa68c2e99e0cd051de4": {
     "model_module": "@jupyter-widgets/controls",
     "model_name": "DescriptionStyleModel",
     "model_module_version": "1.5.0",
     "state": {
      "_model_module": "@jupyter-widgets/controls",
      "_model_module_version": "1.5.0",
      "_model_name": "DescriptionStyleModel",
      "_view_count": null,
      "_view_module": "@jupyter-widgets/base",
      "_view_module_version": "1.2.0",
      "_view_name": "StyleView",
      "description_width": ""
     }
    },
    "e971d713ead54ea593db87bb1542f5f9": {
     "model_module": "@jupyter-widgets/controls",
     "model_name": "HBoxModel",
     "model_module_version": "1.5.0",
     "state": {
      "_dom_classes": [],
      "_model_module": "@jupyter-widgets/controls",
      "_model_module_version": "1.5.0",
      "_model_name": "HBoxModel",
      "_view_count": null,
      "_view_module": "@jupyter-widgets/controls",
      "_view_module_version": "1.5.0",
      "_view_name": "HBoxView",
      "box_style": "",
      "children": [
       "IPY_MODEL_7fafc3a85a664a76bd88813b750515a1",
       "IPY_MODEL_9564ad7c88f14cde89f6a44ecc106261",
       "IPY_MODEL_a33228002e8f4f84a81b41999d370e4b"
      ],
      "layout": "IPY_MODEL_4a2cbe1f2965402a99f1ba832a146efc"
     }
    },
    "7fafc3a85a664a76bd88813b750515a1": {
     "model_module": "@jupyter-widgets/controls",
     "model_name": "HTMLModel",
     "model_module_version": "1.5.0",
     "state": {
      "_dom_classes": [],
      "_model_module": "@jupyter-widgets/controls",
      "_model_module_version": "1.5.0",
      "_model_name": "HTMLModel",
      "_view_count": null,
      "_view_module": "@jupyter-widgets/controls",
      "_view_module_version": "1.5.0",
      "_view_name": "HTMLView",
      "description": "",
      "description_tooltip": null,
      "layout": "IPY_MODEL_4a531608bb944423902cc170cc99e781",
      "placeholder": "​",
      "style": "IPY_MODEL_bf4589e7a99d4bf2941f2c66c8aa8799",
      "value": "100%"
     }
    },
    "9564ad7c88f14cde89f6a44ecc106261": {
     "model_module": "@jupyter-widgets/controls",
     "model_name": "FloatProgressModel",
     "model_module_version": "1.5.0",
     "state": {
      "_dom_classes": [],
      "_model_module": "@jupyter-widgets/controls",
      "_model_module_version": "1.5.0",
      "_model_name": "FloatProgressModel",
      "_view_count": null,
      "_view_module": "@jupyter-widgets/controls",
      "_view_module_version": "1.5.0",
      "_view_name": "ProgressView",
      "bar_style": "success",
      "description": "",
      "description_tooltip": null,
      "layout": "IPY_MODEL_2e9c88f8c3d24d78883f63606ca506ee",
      "max": 6,
      "min": 0,
      "orientation": "horizontal",
      "style": "IPY_MODEL_5c1f96464e244c0eb47a0a3a35f35fb2",
      "value": 6
     }
    },
    "a33228002e8f4f84a81b41999d370e4b": {
     "model_module": "@jupyter-widgets/controls",
     "model_name": "HTMLModel",
     "model_module_version": "1.5.0",
     "state": {
      "_dom_classes": [],
      "_model_module": "@jupyter-widgets/controls",
      "_model_module_version": "1.5.0",
      "_model_name": "HTMLModel",
      "_view_count": null,
      "_view_module": "@jupyter-widgets/controls",
      "_view_module_version": "1.5.0",
      "_view_name": "HTMLView",
      "description": "",
      "description_tooltip": null,
      "layout": "IPY_MODEL_655be718c3364a3dbe3e97ec71076bd6",
      "placeholder": "​",
      "style": "IPY_MODEL_2ff1b418b6af4d8fa35cce6f46216276",
      "value": " 6/6 [01:51&lt;00:00, 20.88s/it]"
     }
    },
    "4a2cbe1f2965402a99f1ba832a146efc": {
     "model_module": "@jupyter-widgets/base",
     "model_name": "LayoutModel",
     "model_module_version": "1.2.0",
     "state": {
      "_model_module": "@jupyter-widgets/base",
      "_model_module_version": "1.2.0",
      "_model_name": "LayoutModel",
      "_view_count": null,
      "_view_module": "@jupyter-widgets/base",
      "_view_module_version": "1.2.0",
      "_view_name": "LayoutView",
      "align_content": null,
      "align_items": null,
      "align_self": null,
      "border": null,
      "bottom": null,
      "display": null,
      "flex": null,
      "flex_flow": null,
      "grid_area": null,
      "grid_auto_columns": null,
      "grid_auto_flow": null,
      "grid_auto_rows": null,
      "grid_column": null,
      "grid_gap": null,
      "grid_row": null,
      "grid_template_areas": null,
      "grid_template_columns": null,
      "grid_template_rows": null,
      "height": null,
      "justify_content": null,
      "justify_items": null,
      "left": null,
      "margin": null,
      "max_height": null,
      "max_width": null,
      "min_height": null,
      "min_width": null,
      "object_fit": null,
      "object_position": null,
      "order": null,
      "overflow": null,
      "overflow_x": null,
      "overflow_y": null,
      "padding": null,
      "right": null,
      "top": null,
      "visibility": null,
      "width": null
     }
    },
    "4a531608bb944423902cc170cc99e781": {
     "model_module": "@jupyter-widgets/base",
     "model_name": "LayoutModel",
     "model_module_version": "1.2.0",
     "state": {
      "_model_module": "@jupyter-widgets/base",
      "_model_module_version": "1.2.0",
      "_model_name": "LayoutModel",
      "_view_count": null,
      "_view_module": "@jupyter-widgets/base",
      "_view_module_version": "1.2.0",
      "_view_name": "LayoutView",
      "align_content": null,
      "align_items": null,
      "align_self": null,
      "border": null,
      "bottom": null,
      "display": null,
      "flex": null,
      "flex_flow": null,
      "grid_area": null,
      "grid_auto_columns": null,
      "grid_auto_flow": null,
      "grid_auto_rows": null,
      "grid_column": null,
      "grid_gap": null,
      "grid_row": null,
      "grid_template_areas": null,
      "grid_template_columns": null,
      "grid_template_rows": null,
      "height": null,
      "justify_content": null,
      "justify_items": null,
      "left": null,
      "margin": null,
      "max_height": null,
      "max_width": null,
      "min_height": null,
      "min_width": null,
      "object_fit": null,
      "object_position": null,
      "order": null,
      "overflow": null,
      "overflow_x": null,
      "overflow_y": null,
      "padding": null,
      "right": null,
      "top": null,
      "visibility": null,
      "width": null
     }
    },
    "bf4589e7a99d4bf2941f2c66c8aa8799": {
     "model_module": "@jupyter-widgets/controls",
     "model_name": "DescriptionStyleModel",
     "model_module_version": "1.5.0",
     "state": {
      "_model_module": "@jupyter-widgets/controls",
      "_model_module_version": "1.5.0",
      "_model_name": "DescriptionStyleModel",
      "_view_count": null,
      "_view_module": "@jupyter-widgets/base",
      "_view_module_version": "1.2.0",
      "_view_name": "StyleView",
      "description_width": ""
     }
    },
    "2e9c88f8c3d24d78883f63606ca506ee": {
     "model_module": "@jupyter-widgets/base",
     "model_name": "LayoutModel",
     "model_module_version": "1.2.0",
     "state": {
      "_model_module": "@jupyter-widgets/base",
      "_model_module_version": "1.2.0",
      "_model_name": "LayoutModel",
      "_view_count": null,
      "_view_module": "@jupyter-widgets/base",
      "_view_module_version": "1.2.0",
      "_view_name": "LayoutView",
      "align_content": null,
      "align_items": null,
      "align_self": null,
      "border": null,
      "bottom": null,
      "display": null,
      "flex": null,
      "flex_flow": null,
      "grid_area": null,
      "grid_auto_columns": null,
      "grid_auto_flow": null,
      "grid_auto_rows": null,
      "grid_column": null,
      "grid_gap": null,
      "grid_row": null,
      "grid_template_areas": null,
      "grid_template_columns": null,
      "grid_template_rows": null,
      "height": null,
      "justify_content": null,
      "justify_items": null,
      "left": null,
      "margin": null,
      "max_height": null,
      "max_width": null,
      "min_height": null,
      "min_width": null,
      "object_fit": null,
      "object_position": null,
      "order": null,
      "overflow": null,
      "overflow_x": null,
      "overflow_y": null,
      "padding": null,
      "right": null,
      "top": null,
      "visibility": null,
      "width": null
     }
    },
    "5c1f96464e244c0eb47a0a3a35f35fb2": {
     "model_module": "@jupyter-widgets/controls",
     "model_name": "ProgressStyleModel",
     "model_module_version": "1.5.0",
     "state": {
      "_model_module": "@jupyter-widgets/controls",
      "_model_module_version": "1.5.0",
      "_model_name": "ProgressStyleModel",
      "_view_count": null,
      "_view_module": "@jupyter-widgets/base",
      "_view_module_version": "1.2.0",
      "_view_name": "StyleView",
      "bar_color": null,
      "description_width": ""
     }
    },
    "655be718c3364a3dbe3e97ec71076bd6": {
     "model_module": "@jupyter-widgets/base",
     "model_name": "LayoutModel",
     "model_module_version": "1.2.0",
     "state": {
      "_model_module": "@jupyter-widgets/base",
      "_model_module_version": "1.2.0",
      "_model_name": "LayoutModel",
      "_view_count": null,
      "_view_module": "@jupyter-widgets/base",
      "_view_module_version": "1.2.0",
      "_view_name": "LayoutView",
      "align_content": null,
      "align_items": null,
      "align_self": null,
      "border": null,
      "bottom": null,
      "display": null,
      "flex": null,
      "flex_flow": null,
      "grid_area": null,
      "grid_auto_columns": null,
      "grid_auto_flow": null,
      "grid_auto_rows": null,
      "grid_column": null,
      "grid_gap": null,
      "grid_row": null,
      "grid_template_areas": null,
      "grid_template_columns": null,
      "grid_template_rows": null,
      "height": null,
      "justify_content": null,
      "justify_items": null,
      "left": null,
      "margin": null,
      "max_height": null,
      "max_width": null,
      "min_height": null,
      "min_width": null,
      "object_fit": null,
      "object_position": null,
      "order": null,
      "overflow": null,
      "overflow_x": null,
      "overflow_y": null,
      "padding": null,
      "right": null,
      "top": null,
      "visibility": null,
      "width": null
     }
    },
    "2ff1b418b6af4d8fa35cce6f46216276": {
     "model_module": "@jupyter-widgets/controls",
     "model_name": "DescriptionStyleModel",
     "model_module_version": "1.5.0",
     "state": {
      "_model_module": "@jupyter-widgets/controls",
      "_model_module_version": "1.5.0",
      "_model_name": "DescriptionStyleModel",
      "_view_count": null,
      "_view_module": "@jupyter-widgets/base",
      "_view_module_version": "1.2.0",
      "_view_name": "StyleView",
      "description_width": ""
     }
    }
   }
  }
 },
 "nbformat": 4,
 "nbformat_minor": 5
}
